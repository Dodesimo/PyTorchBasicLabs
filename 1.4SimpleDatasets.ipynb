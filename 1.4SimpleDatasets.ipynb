{
 "cells": [
  {
   "cell_type": "code",
   "execution_count": 47,
   "outputs": [],
   "source": [
    "import torch\n",
    "from torch.utils.data import Dataset\n",
    "torch.manual_seed(1)\n",
    "from torchvision import transforms"
   ],
   "metadata": {
    "collapsed": false,
    "pycharm": {
     "name": "#%%\n"
    }
   }
  },
  {
   "cell_type": "code",
   "execution_count": 48,
   "outputs": [],
   "source": [
    "class Toybox(Dataset):\n",
    "    def __init__(self, length = 100, transform = None):\n",
    "        self.len = length\n",
    "        self.x = 2 * torch.ones(length, 2)\n",
    "        self.y = torch.ones(length, 1)\n",
    "        self.transform = transform\n",
    "\n",
    "    def __getitem__(self, index):\n",
    "        sample = self.x[index], self.y[index]\n",
    "        if self.transform:\n",
    "            sample = self.transform(sample)\n",
    "        return sample\n",
    "    def __len__(self):\n",
    "        return self.len"
   ],
   "metadata": {
    "collapsed": false,
    "pycharm": {
     "name": "#%%\n"
    }
   }
  },
  {
   "cell_type": "code",
   "execution_count": 49,
   "outputs": [
    {
     "name": "stdout",
     "output_type": "stream",
     "text": [
      "100\n"
     ]
    }
   ],
   "source": [
    "newDataset = Toybox()\n",
    "newDataset[0]\n",
    "print(newDataset.len)"
   ],
   "metadata": {
    "collapsed": false,
    "pycharm": {
     "name": "#%%\n"
    }
   }
  },
  {
   "cell_type": "code",
   "execution_count": 50,
   "outputs": [
    {
     "name": "stdout",
     "output_type": "stream",
     "text": [
      "index 0 x: tensor([2., 2.]) y: tensor([1.])\n",
      "index 1 x: tensor([2., 2.]) y: tensor([1.])\n",
      "index 2 x: tensor([2., 2.]) y: tensor([1.])\n"
     ]
    }
   ],
   "source": [
    "for i in range(3):\n",
    "    x, y = newDataset[i]\n",
    "    print(\"index\", i, \"x:\", x, \"y:\", y)"
   ],
   "metadata": {
    "collapsed": false,
    "pycharm": {
     "name": "#%%\n"
    }
   }
  },
  {
   "cell_type": "code",
   "execution_count": 51,
   "outputs": [
    {
     "name": "stdout",
     "output_type": "stream",
     "text": [
      "50\n"
     ]
    }
   ],
   "source": [
    "sampleDataset=Toybox(length=50)\n",
    "print(sampleDataset.len)"
   ],
   "metadata": {
    "collapsed": false,
    "pycharm": {
     "name": "#%%\n"
    }
   }
  },
  {
   "cell_type": "code",
   "execution_count": 52,
   "outputs": [],
   "source": [
    "class addMult(object):\n",
    "    def __init__(self, addx = 1, muly = 2):\n",
    "        self.addx = addx\n",
    "        self.muly = muly\n",
    "\n",
    "    def __call__(self, sample):\n",
    "        x = sample[0]\n",
    "        y = sample[1]\n",
    "        x += self.addx\n",
    "        y *= self.muly\n",
    "        sample = x,y\n",
    "        return sample"
   ],
   "metadata": {
    "collapsed": false,
    "pycharm": {
     "name": "#%%\n"
    }
   }
  },
  {
   "cell_type": "code",
   "execution_count": 53,
   "outputs": [],
   "source": [
    "transform = addMult()\n",
    "dataset = Toybox(transform = transform)"
   ],
   "metadata": {
    "collapsed": false,
    "pycharm": {
     "name": "#%%\n"
    }
   }
  },
  {
   "cell_type": "code",
   "execution_count": 54,
   "outputs": [
    {
     "name": "stdout",
     "output_type": "stream",
     "text": [
      "tensor([3., 3.]) tensor([2.])\n",
      "tensor([5., 5.]) tensor([8.])\n",
      "tensor([3., 3.]) tensor([2.])\n",
      "tensor([5., 5.]) tensor([8.])\n",
      "tensor([3., 3.]) tensor([2.])\n",
      "tensor([5., 5.]) tensor([8.])\n",
      "tensor([3., 3.]) tensor([2.])\n",
      "tensor([5., 5.]) tensor([8.])\n",
      "tensor([3., 3.]) tensor([2.])\n",
      "tensor([5., 5.]) tensor([8.])\n",
      "tensor([3., 3.]) tensor([2.])\n",
      "tensor([5., 5.]) tensor([8.])\n",
      "tensor([3., 3.]) tensor([2.])\n",
      "tensor([5., 5.]) tensor([8.])\n",
      "tensor([3., 3.]) tensor([2.])\n",
      "tensor([5., 5.]) tensor([8.])\n",
      "tensor([3., 3.]) tensor([2.])\n",
      "tensor([5., 5.]) tensor([8.])\n",
      "tensor([3., 3.]) tensor([2.])\n",
      "tensor([5., 5.]) tensor([8.])\n"
     ]
    }
   ],
   "source": [
    "for i in range(10):\n",
    "    x, y = dataset[i]\n",
    "    print(x, y)\n",
    "    x_, y_ = transform(dataset[i])\n",
    "    print(x_, y_)"
   ],
   "metadata": {
    "collapsed": false,
    "pycharm": {
     "name": "#%%\n"
    }
   }
  },
  {
   "cell_type": "code",
   "execution_count": 55,
   "outputs": [
    {
     "name": "stdout",
     "output_type": "stream",
     "text": [
      "(tensor([7., 7.]), tensor([2.]))\n",
      "(tensor([7., 7.]), tensor([2.]))\n",
      "(tensor([7., 7.]), tensor([2.]))\n",
      "(tensor([7., 7.]), tensor([2.]))\n",
      "(tensor([7., 7.]), tensor([2.]))\n",
      "(tensor([7., 7.]), tensor([2.]))\n",
      "(tensor([7., 7.]), tensor([2.]))\n",
      "(tensor([7., 7.]), tensor([2.]))\n",
      "(tensor([7., 7.]), tensor([2.]))\n",
      "(tensor([7., 7.]), tensor([2.]))\n"
     ]
    }
   ],
   "source": [
    "class newMultFunction (object):\n",
    "    def __init__(self, addX = 5, mulY = 2):\n",
    "        self.addX = addX\n",
    "        self.mulY = mulY\n",
    "\n",
    "    def __call__(self, sample):\n",
    "        x, y = sample[0], sample[1]\n",
    "        x += self.addX\n",
    "        y *= self.mulY\n",
    "        sample = x, y\n",
    "        return sample\n",
    "\n",
    "mf = newMultFunction()\n",
    "newToySet = Toybox(transform = mf)\n",
    "for i in range(10):\n",
    "    print(newToySet[i])"
   ],
   "metadata": {
    "collapsed": false,
    "pycharm": {
     "name": "#%%\n"
    }
   }
  },
  {
   "cell_type": "code",
   "execution_count": 56,
   "outputs": [],
   "source": [
    "class mult(object):\n",
    "    def __init__(self, mult = 100):\n",
    "        self.mult = mult\n",
    "    def __call__(self, sample):\n",
    "        x, y = sample[0], sample[1]\n",
    "        x *= self.mult\n",
    "        y *= self.mult\n",
    "        sample = x, y\n",
    "        return sample"
   ],
   "metadata": {
    "collapsed": false,
    "pycharm": {
     "name": "#%%\n"
    }
   }
  },
  {
   "cell_type": "code",
   "execution_count": null,
   "outputs": [],
   "source": [],
   "metadata": {
    "collapsed": false,
    "pycharm": {
     "name": "#%%\n"
    }
   }
  }
 ],
 "metadata": {
  "kernelspec": {
   "display_name": "Python 3",
   "language": "python",
   "name": "python3"
  },
  "language_info": {
   "codemirror_mode": {
    "name": "ipython",
    "version": 2
   },
   "file_extension": ".py",
   "mimetype": "text/x-python",
   "name": "python",
   "nbconvert_exporter": "python",
   "pygments_lexer": "ipython2",
   "version": "2.7.6"
  }
 },
 "nbformat": 4,
 "nbformat_minor": 0
}